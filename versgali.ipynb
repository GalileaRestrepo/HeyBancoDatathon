{
 "cells": [
  {
   "cell_type": "code",
   "execution_count": 3,
   "id": "905abe9e",
   "metadata": {},
   "outputs": [
    {
     "name": "stderr",
     "output_type": "stream",
     "text": [
      "/var/folders/22/pgty7krs2sldhc8zl8xgk9pm0000gn/T/ipykernel_54401/3211244414.py:16: FutureWarning: A value is trying to be set on a copy of a DataFrame or Series through chained assignment using an inplace method.\n",
      "The behavior will change in pandas 3.0. This inplace method will never work because the intermediate object on which we are setting values always behaves as a copy.\n",
      "\n",
      "For example, when doing 'df[col].method(value, inplace=True)', try using 'df.method({col: value}, inplace=True)' or df[col] = df[col].method(value) instead, to perform the operation inplace on the original object.\n",
      "\n",
      "\n",
      "  base_completa['giro_comercio'].fillna(\"SIN CLASIFICAR\", inplace=True)\n"
     ]
    },
    {
     "name": "stdout",
     "output_type": "stream",
     "text": [
      "Vista previa de la base combinada:\n",
      "                                         id       fecha comercio  \\\n",
      "0  91477f382c3cf63ab5cd9263b502109243741158  2022-01-02   AMAZON   \n",
      "1  91477f382c3cf63ab5cd9263b502109243741158  2022-01-05    RAPPI   \n",
      "2  91477f382c3cf63ab5cd9263b502109243741158  2022-01-05    RAPPI   \n",
      "3  91477f382c3cf63ab5cd9263b502109243741158  2022-01-05   AMAZON   \n",
      "4  91477f382c3cf63ab5cd9263b502109243741158  2022-01-05   AMAZON   \n",
      "\n",
      "                                giro_comercio tipo_venta  monto  \\\n",
      "0  COMERCIOS ELECTRONICOS (VTAS POR INTERNET)    digital   5.99   \n",
      "1   SERVICIOS EMPRESARIALES - NO CLASIFICADOS    digital  13.01   \n",
      "2   SERVICIOS EMPRESARIALES - NO CLASIFICADOS    digital  15.84   \n",
      "3  COMERCIOS ELECTRONICOS (VTAS POR INTERNET)    digital   8.17   \n",
      "4  COMERCIOS ELECTRONICOS (VTAS POR INTERNET)    digital   2.54   \n",
      "\n",
      "  fecha_nacimiento  fecha_alta  id_municipio  id_estado  \\\n",
      "0       1987-09-21  2019-10-28       6519019         65   \n",
      "1       1987-09-21  2019-10-28       6519019         65   \n",
      "2       1987-09-21  2019-10-28       6519019         65   \n",
      "3       1987-09-21  2019-10-28       6519019         65   \n",
      "4       1987-09-21  2019-10-28       6519019         65   \n",
      "\n",
      "                               tipo_persona genero  \\\n",
      "0  Persona Fisica Sin Actividad Empresarial      M   \n",
      "1  Persona Fisica Sin Actividad Empresarial      M   \n",
      "2  Persona Fisica Sin Actividad Empresarial      M   \n",
      "3  Persona Fisica Sin Actividad Empresarial      M   \n",
      "4  Persona Fisica Sin Actividad Empresarial      M   \n",
      "\n",
      "         actividad_empresarial  \n",
      "0  PROFESIONISTA INDEPENDIENTE  \n",
      "1  PROFESIONISTA INDEPENDIENTE  \n",
      "2  PROFESIONISTA INDEPENDIENTE  \n",
      "3  PROFESIONISTA INDEPENDIENTE  \n",
      "4  PROFESIONISTA INDEPENDIENTE  \n",
      "\n",
      "¡Archivo guardado como 'base_completa.csv'!\n"
     ]
    }
   ],
   "source": [
    "# === PASO 1: Limpieza y combinación de bases ===\n",
    "import pandas as pd\n",
    "\n",
    "# Cargar archivos CSV\n",
    "clientes = pd.read_csv('base_clientes_final.csv')\n",
    "transacciones = pd.read_csv('base_transacciones_final.csv')\n",
    "\n",
    "# Limpiar nombres de columnas por si acaso\n",
    "clientes.rename(columns=lambda x: x.strip(), inplace=True)\n",
    "transacciones.rename(columns=lambda x: x.strip(), inplace=True)\n",
    "\n",
    "# Combinar las bases usando 'id',,,\n",
    "base_completa = transacciones.merge(clientes, on='id', how='left')\n",
    "\n",
    "# Llenar nulos en giro_comercio\n",
    "base_completa['giro_comercio'].fillna(\"SIN CLASIFICAR\", inplace=True)\n",
    "\n",
    "# Vista previa\n",
    "print(\"Vista previa de la base combinada:\")\n",
    "print(base_completa.head())\n",
    "\n",
    "# Guardar base combinada\n",
    "base_completa.to_csv('base_completa.csv', index=False)\n",
    "print(\"\\n¡Archivo guardado como 'base_completa.csv'!\")\n"
   ]
  },
  {
   "cell_type": "code",
   "execution_count": 5,
   "id": "f1799338",
   "metadata": {},
   "outputs": [],
   "source": [
    "# PASO 2: Calcular meses_distintos por cliente–comercio\n",
    "# Asegurarse que la fecha sea tipo datetime\n",
    "base_completa['fecha'] = pd.to_datetime(base_completa['fecha'])\n",
    "\n",
    "# Crear columna año-mes\n",
    "base_completa['año_mes'] = base_completa['fecha'].dt.to_period('M')\n",
    "\n",
    "# Agrupar por cliente y comercio para contar meses distintos\n",
    "frecuencia_mensual = (\n",
    "    base_completa.groupby(['id', 'comercio'])['año_mes']\n",
    "    .nunique()\n",
    "    .reset_index(name='meses_distintos')\n",
    ")\n"
   ]
  },
  {
   "cell_type": "code",
   "execution_count": null,
   "id": "e2e00124",
   "metadata": {},
   "outputs": [],
   "source": [
    "# === PASO 2.5: Enriquecer con datos del cliente ===\n",
    "\n",
    "info_clientes = base_completa[['id', 'fecha_nacimiento', 'fecha_alta', 'id_municipio', 'id_estado',\n",
    "                               'tipo_persona', 'genero', 'actividad_empresarial']].drop_duplicates()\n",
    "\n",
    "info_clientes['fecha_nacimiento'] = pd.to_datetime(info_clientes['fecha_nacimiento'])\n",
    "info_clientes['fecha_alta'] = pd.to_datetime(info_clientes['fecha_alta'])\n",
    "\n",
    "hoy = pd.to_datetime('today')\n",
    "info_clientes['edad'] = (hoy - info_clientes['fecha_nacimiento']).dt.days // 365\n",
    "info_clientes['antiguedad_meses'] = (hoy - info_clientes['fecha_alta']).dt.days // 30\n",
    "\n",
    "# Unir con la tabla recurrentes\n",
    "recurrentes_full = recurrentes.merge(info_clientes, on='id', how='left')\n",
    "print(\"\\nTabla lista para entrenar modelo:\")\n",
    "print(recurrentes_full.head())\n"
   ]
  },
  {
   "cell_type": "code",
   "execution_count": null,
   "id": "9135e091",
   "metadata": {},
   "outputs": [],
   "source": [
    "# === PASO 3: Entrenar modelo de clasificación ===\n",
    "from sklearn.model_selection import train_test_split\n",
    "from sklearn.ensemble import RandomForestClassifier\n",
    "from sklearn.metrics import classification_report\n",
    "\n",
    "features = ['num_transacciones', 'monto_prom', 'intervalo_prom', 'edad', 'antiguedad_meses']\n",
    "X = recurrentes_full[features]\n",
    "y = recurrentes_full['es_recurrente']\n",
    "\n",
    "X_train, X_test, y_train, y_test = train_test_split(X, y, test_size=0.3, random_state=42)\n",
    "\n",
    "clf = RandomForestClassifier(n_estimators=100, random_state=42)\n",
    "clf.fit(X_train, y_train)\n",
    "\n",
    "y_pred = clf.predict(X_test)\n",
    "print(\"\\nReporte de clasificación:\")\n",
    "print(classification_report(y_test, y_pred))\n"
   ]
  }
 ],
 "metadata": {
  "kernelspec": {
   "display_name": "base",
   "language": "python",
   "name": "python3"
  },
  "language_info": {
   "codemirror_mode": {
    "name": "ipython",
    "version": 3
   },
   "file_extension": ".py",
   "mimetype": "text/x-python",
   "name": "python",
   "nbconvert_exporter": "python",
   "pygments_lexer": "ipython3",
   "version": "3.12.7"
  }
 },
 "nbformat": 4,
 "nbformat_minor": 5
}
