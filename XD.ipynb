{
 "cells": [
  {
   "cell_type": "code",
   "execution_count": null,
   "id": "3e09c04f",
   "metadata": {},
   "outputs": [
    {
     "name": "stdout",
     "output_type": "stream",
     "text": [
      "Vista previa de la base combinada:\n",
      "\n",
      "¡Archivo guardado como 'base_completa.csv'!\n"
     ]
    }
   ],
   "source": [
    "import pandas as pd\n",
    "\n",
    "# Cargar archivos CSV (asegúrate que estén en la misma carpeta que este archivo)\n",
    "clientes = pd.read_csv('base_clientes_final.csv')\n",
    "transacciones = pd.read_csv('base_transacciones_final.csv')\n",
    "\n",
    "# Quitar espacios en nombres de columnas por si acaso\n",
    "clientes.rename(columns=lambda x: x.strip(), inplace=True)\n",
    "transacciones.rename(columns=lambda x: x.strip(), inplace=True)\n",
    "\n",
    "# Combinar las bases usando la columna 'ID'\n",
    "base_completa = transacciones.merge(clientes, on='id', how='left')\n",
    "\n",
    "# Mostrar algunas filas para revisar\n",
    "print(\"Vista previa de la base combinada:\")\n",
    "base_completa.head()\n",
    "\n",
    "base_completa.to_csv('base_completa.csv', index=False)\n",
    "print(\"\\n¡Archivo guardado como 'base_completa.csv'!\")"
   ]
  },
  {
   "cell_type": "code",
   "execution_count": null,
   "id": "e9af257e",
   "metadata": {},
   "outputs": [],
   "source": []
  },
  {
   "cell_type": "code",
   "execution_count": null,
   "id": "90a0ae25",
   "metadata": {},
   "outputs": [],
   "source": []
  }
 ],
 "metadata": {
  "kernelspec": {
   "display_name": "Python 3",
   "language": "python",
   "name": "python3"
  },
  "language_info": {
   "codemirror_mode": {
    "name": "ipython",
    "version": 3
   },
   "file_extension": ".py",
   "mimetype": "text/x-python",
   "name": "python",
   "nbconvert_exporter": "python",
   "pygments_lexer": "ipython3",
   "version": "3.12.10"
  }
 },
 "nbformat": 4,
 "nbformat_minor": 5
}
