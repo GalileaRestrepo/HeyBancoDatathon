{
 "cells": [
  {
   "cell_type": "code",
   "execution_count": null,
   "id": "3e09c04f",
   "metadata": {},
   "outputs": [],
   "source": [
    "lol"
   ]
  }
 ],
 "metadata": {
  "kernelspec": {
   "display_name": "Python 3",
   "language": "python",
   "name": "python3"
  },
  "language_info": {
   "name": "python",
   "version": "3.10.11 (tags/v3.10.11:7d4cc5a, Apr  5 2023, 00:38:17) [MSC v.1929 64 bit (AMD64)]"
  },
  "vscode": {
   "interpreter": {
    "hash": "001dc15ad77babc49301626663976d6caf22cd76978e46ca74a2f3f3b6dfe971"
   }
  }
 },
 "nbformat": 4,
 "nbformat_minor": 5
}
